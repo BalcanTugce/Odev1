{
 "cells": [
  {
   "cell_type": "markdown",
   "id": "244176b0",
   "metadata": {},
   "source": [
    "1.SORU"
   ]
  },
  {
   "cell_type": "code",
   "execution_count": 1,
   "id": "11697047",
   "metadata": {},
   "outputs": [],
   "source": [
    "def BolunenSayıBulma(min_sayi,max_sayi,bolen_sayi):\n",
    "    tam_bolunenler = []\n",
    "    for i in range(min_sayi+1,max_sayi):\n",
    "        if i % bolen_sayi == 0:\n",
    "            tam_bolunenler.append(i)\n",
    "        toplam = len(tam_bolunenler)\n",
    "    return toplam, tam_bolunenler"
   ]
  },
  {
   "cell_type": "code",
   "execution_count": 2,
   "id": "44aca55a",
   "metadata": {},
   "outputs": [],
   "source": [
    "a = BolunenSayıBulma(3, 70, 2)"
   ]
  },
  {
   "cell_type": "code",
   "execution_count": 3,
   "id": "4752ff45",
   "metadata": {},
   "outputs": [
    {
     "name": "stdout",
     "output_type": "stream",
     "text": [
      "(33, [4, 6, 8, 10, 12, 14, 16, 18, 20, 22, 24, 26, 28, 30, 32, 34, 36, 38, 40, 42, 44, 46, 48, 50, 52, 54, 56, 58, 60, 62, 64, 66, 68])\n"
     ]
    }
   ],
   "source": [
    "print(a)"
   ]
  },
  {
   "cell_type": "markdown",
   "id": "d6fc973d",
   "metadata": {},
   "source": [
    "2.SORU"
   ]
  },
  {
   "cell_type": "code",
   "execution_count": 23,
   "id": "96d6673b",
   "metadata": {},
   "outputs": [],
   "source": [
    "onlar = [\"on\",\"yirmi\",\"otuz\",\"kırk\",\"elli\",\"altmış\",\"yetmis\",\"seksen\",\"doksan\"]\n",
    "birler = [\"bir\",\"iki\",\"uc\",\"dort\",\"bes\",\"altı\",\"yedi\",\"sekiz\",\"dokuz\"]"
   ]
  },
  {
   "cell_type": "code",
   "execution_count": 24,
   "id": "e0c70ed4",
   "metadata": {},
   "outputs": [],
   "source": [
    "def sayiOkunusu(okunacakSayi):\n",
    "    print(onlar[int(okunacakSayi/10)-1] + \" \"+ birler[int(okunacakSayi % 10)-1])"
   ]
  },
  {
   "cell_type": "code",
   "execution_count": 25,
   "id": "41cacdaf",
   "metadata": {},
   "outputs": [],
   "source": [
    "def sayiAtama(sayi):\n",
    "    if(sayi<10 or sayi>99):\n",
    "        print(\"Sayi ilgili değer aralığında değil\")\n",
    "        exit(1)\n",
    "    okunacakSayi = sayi\n",
    "    sayiOkunusu(okunacakSayi)"
   ]
  },
  {
   "cell_type": "code",
   "execution_count": 26,
   "id": "9a8f210b",
   "metadata": {},
   "outputs": [],
   "source": [
    "def main():\n",
    "    print(\"Okunacak sayiyi giriniz :\")\n",
    "    sayi = int(input())\n",
    "    sayiAtama(sayi)"
   ]
  },
  {
   "cell_type": "code",
   "execution_count": 27,
   "id": "65f7b4d3",
   "metadata": {},
   "outputs": [
    {
     "name": "stdout",
     "output_type": "stream",
     "text": [
      "Okunacak sayiyi giriniz :\n",
      "87\n",
      "seksen yedi\n"
     ]
    }
   ],
   "source": [
    "if __name__ == '__main__':\n",
    "    main()"
   ]
  },
  {
   "cell_type": "code",
   "execution_count": null,
   "id": "2dded6c9",
   "metadata": {},
   "outputs": [],
   "source": []
  },
  {
   "cell_type": "markdown",
   "id": "084e8406",
   "metadata": {},
   "source": [
    "3.SORU"
   ]
  },
  {
   "cell_type": "code",
   "execution_count": 35,
   "id": "407bb3a9",
   "metadata": {},
   "outputs": [
    {
     "name": "stdout",
     "output_type": "stream",
     "text": [
      "Vize1:65\n",
      "Vize2:55\n",
      "Final:70\n",
      "DD\n"
     ]
    }
   ],
   "source": [
    "vize1 = int(input(\"Vize1:\"))\n",
    "vize2 = int(input(\"Vize2:\"))\n",
    "final = int(input(\"Final:\"))\n",
    "\n",
    "\n",
    "genel_not =  vize1 * 3/10 + vize2 * 3/10 + final * 4/10\n",
    "\n",
    "if (genel_not >= 90):\n",
    "    print(\"AA\")\n",
    "elif (genel_not >= 85):\n",
    "    print(\"BA\")\n",
    "elif (genel_not >= 80):\n",
    "    print(\"BB\")\n",
    "elif (genel_not >= 75):\n",
    "    print(\"CB\")\n",
    "elif (genel_not >= 70):\n",
    "    print(\"CC\")\n",
    "elif (genel_not >= 65):\n",
    "    print(\"DC\")\n",
    "elif (genel_not >= 60):\n",
    "    print(\"DD\")\n",
    "elif (genel_not >= 55):\n",
    "    print(\"FD\")\n",
    "else:\n",
    "    print(\"FF\")\n",
    "    "
   ]
  },
  {
   "cell_type": "code",
   "execution_count": null,
   "id": "4adc5107",
   "metadata": {},
   "outputs": [],
   "source": []
  },
  {
   "cell_type": "code",
   "execution_count": null,
   "id": "edb9c3f5",
   "metadata": {},
   "outputs": [],
   "source": []
  }
 ],
 "metadata": {
  "kernelspec": {
   "display_name": "Python 3 (ipykernel)",
   "language": "python",
   "name": "python3"
  },
  "language_info": {
   "codemirror_mode": {
    "name": "ipython",
    "version": 3
   },
   "file_extension": ".py",
   "mimetype": "text/x-python",
   "name": "python",
   "nbconvert_exporter": "python",
   "pygments_lexer": "ipython3",
   "version": "3.9.7"
  }
 },
 "nbformat": 4,
 "nbformat_minor": 5
}
